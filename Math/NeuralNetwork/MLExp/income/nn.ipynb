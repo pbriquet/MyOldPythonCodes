{
 "cells": [
  {
   "cell_type": "code",
   "execution_count": 10,
   "metadata": {
    "collapsed": false
   },
   "outputs": [],
   "source": [
    "import numpy as np\n",
    "from income.setup import setup\n",
    "import theano\n",
    "import sys\n",
    "floatX = theano.config.floatX\n",
    "\n",
    "X_train, Y_train = setup(training_data=\"data/income/2014.csv\",test_data=\"data/income/2017.csv\")\n",
    "\n",
    "X = np.array(X_train).astype(floatX)\n",
    "y = np.array(Y_train).T.astype(floatX)\n",
    "\n",
    "numData = X.shape[0]\n",
    "numFeatures = X.shape[1]\n",
    "#print(X_train[X_train.isnull().any(axis=1)])"
   ]
  },
  {
   "cell_type": "code",
   "execution_count": 11,
   "metadata": {},
   "outputs": [],
   "source": [
    "def sig(x):\n",
    "    return 1/(1+np.exp(-x))\n",
    "def sig_der(x):\n",
    "    return x*(1-x)"
   ]
  },
  {
   "cell_type": "code",
   "execution_count": 13,
   "metadata": {
    "collapsed": false
   },
   "outputs": [
    {
     "name": "stdout",
     "output_type": "stream",
     "text": [
      "0\n"
     ]
    },
    {
     "name": "stdout",
     "output_type": "stream",
     "text": [
      "1\n"
     ]
    },
    {
     "name": "stdout",
     "output_type": "stream",
     "text": [
      "2\n"
     ]
    },
    {
     "name": "stdout",
     "output_type": "stream",
     "text": [
      "3\n"
     ]
    },
    {
     "name": "stdout",
     "output_type": "stream",
     "text": [
      "4\n"
     ]
    },
    {
     "name": "stdout",
     "output_type": "stream",
     "text": [
      "5\n"
     ]
    },
    {
     "name": "stdout",
     "output_type": "stream",
     "text": [
      "6\n"
     ]
    },
    {
     "name": "stdout",
     "output_type": "stream",
     "text": [
      "7\n"
     ]
    },
    {
     "name": "stdout",
     "output_type": "stream",
     "text": [
      "8\n"
     ]
    },
    {
     "name": "stdout",
     "output_type": "stream",
     "text": [
      "9\n"
     ]
    },
    {
     "name": "stdout",
     "output_type": "stream",
     "text": [
      "l1 [[ 0.  1.  1. ...,  0.  0.  1.]\n [ 0.  1.  1. ...,  0.  0.  1.]\n [ 0.  1.  1. ...,  0.  0.  1.]\n ..., \n [ 0.  1.  1. ...,  0.  0.  1.]\n [ 0.  1.  1. ...,  0.  0.  1.]\n [ 0.  1.  1. ...,  0.  0.  1.]]\n"
     ]
    }
   ],
   "source": [
    "np.seterr(all='ignore')\n",
    "np.random.seed(1)\n",
    "\n",
    "syn0 = 2 * np.random.random((numFeatures, numData)).astype(floatX) - 1\n",
    "syn1 = 2 * np.random.random((numData, 1)).astype(floatX) - 1\n",
    "\n",
    "for iter in range(10):\n",
    "    print(iter)\n",
    "    l1 = sig(np.dot(X,syn0))\n",
    "    # print('l1',l1)\n",
    "    l1_delta = (y - l1) * sig_der(l1)\n",
    "    # print('l1_delta', l1_delta)\n",
    "    syn0 += np.dot(X.T, l1_delta)\n",
    "    #sys.stdout.write(\"\\033[F\")\n",
    "    # print('syn0', syn0)\n",
    "    # l2 = sig(np.dot(l1,syn1))\n",
    "    # l2_delta = (y - l2) * sig_der(l2)\n",
    "    # l1_delta = l2_delta.dot(syn1) * sig_der(l1)\n",
    "    # syn1 += l1.T.dot(l2_delta)\n",
    "    # syn0 += X.T.dot(l1_delta)\n",
    "    \n",
    "#print('syn0', syn0)\n",
    "#print('syn1', syn1)\n",
    "\n",
    "print('l1',l1)\n",
    "\n"
   ]
  },
  {
   "cell_type": "code",
   "execution_count": null,
   "metadata": {
    "collapsed": false
   },
   "outputs": [
    {
     "name": "stdout",
     "output_type": "stream",
     "text": [
      "0\n"
     ]
    },
    {
     "name": "stdout",
     "output_type": "stream",
     "text": [
      "1\n"
     ]
    },
    {
     "name": "stdout",
     "output_type": "stream",
     "text": [
      "2\n"
     ]
    },
    {
     "name": "stdout",
     "output_type": "stream",
     "text": [
      "3\n"
     ]
    },
    {
     "name": "stdout",
     "output_type": "stream",
     "text": [
      "4\n"
     ]
    },
    {
     "name": "stdout",
     "output_type": "stream",
     "text": [
      "5\n"
     ]
    },
    {
     "name": "stdout",
     "output_type": "stream",
     "text": [
      "6\n"
     ]
    },
    {
     "name": "stdout",
     "output_type": "stream",
     "text": [
      "7\n"
     ]
    },
    {
     "name": "stdout",
     "output_type": "stream",
     "text": [
      "8\n"
     ]
    },
    {
     "name": "stdout",
     "output_type": "stream",
     "text": [
      "9\n"
     ]
    },
    {
     "name": "stdout",
     "output_type": "stream",
     "text": [
      "l1 [[ 0.  1.  1. ...,  0.  0.  1.]\n [ 0.  1.  1. ...,  0.  0.  1.]\n [ 0.  1.  1. ...,  0.  0.  1.]\n ..., \n [ 0.  1.  1. ...,  0.  0.  1.]\n [ 0.  1.  1. ...,  0.  0.  1.]\n [ 0.  1.  1. ...,  0.  0.  1.]]\n"
     ]
    }
   ],
   "source": [
    ""
   ]
  },
  {
   "cell_type": "code",
   "execution_count": null,
   "metadata": {},
   "outputs": [],
   "source": []
  }
 ],
 "metadata": {
  "kernelspec": {
   "display_name": "Python 2",
   "language": "python",
   "name": "python2"
  },
  "language_info": {
   "codemirror_mode": {
    "name": "ipython",
    "version": 2
   },
   "file_extension": ".py",
   "mimetype": "text/x-python",
   "name": "python",
   "nbconvert_exporter": "python",
   "pygments_lexer": "ipython2",
   "version": "2.7.6"
  }
 },
 "nbformat": 4,
 "nbformat_minor": 0
}
